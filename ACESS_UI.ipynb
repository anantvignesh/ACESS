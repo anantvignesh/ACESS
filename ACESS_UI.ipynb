{
 "cells": [
  {
   "cell_type": "code",
   "execution_count": 1,
   "metadata": {
    "ExecuteTime": {
     "end_time": "2024-02-10T20:16:25.876532Z",
     "start_time": "2024-02-10T20:16:19.694081Z"
    },
    "collapsed": false,
    "jupyter": {
     "outputs_hidden": false
    }
   },
   "outputs": [],
   "source": [
    "import gradio as gr"
   ]
  },
  {
   "cell_type": "code",
   "execution_count": 2,
   "metadata": {
    "ExecuteTime": {
     "end_time": "2024-02-10T20:16:28.123906Z",
     "start_time": "2024-02-10T20:16:28.112014Z"
    },
    "collapsed": true,
    "jupyter": {
     "outputs_hidden": true
    }
   },
   "outputs": [],
   "source": [
    "def chat_response(user_input):\n",
    "    # Placeholder for the chatbot's response logic\n",
    "    return \"This is a simulated response to: \" + user_input\n",
    "\n",
    "def rate_interaction(rating):\n",
    "    # Placeholder to process the rating\n",
    "    return \"You rated this interaction as: \" + str(rating) + \"/5\"\n",
    "\n",
    "def user_engagement(start_date, end_date):\n",
    "    # Placeholder for user engagement analytics\n",
    "    engagement_summary = f\"Engagement summary from {start_date} to {end_date}\"\n",
    "    return engagement_summary"
   ]
  },
  {
   "cell_type": "code",
   "execution_count": 5,
   "metadata": {
    "ExecuteTime": {
     "end_time": "2024-02-10T20:22:40.898466Z",
     "start_time": "2024-02-10T20:22:38.717897Z"
    },
    "collapsed": false,
    "jupyter": {
     "outputs_hidden": false
    }
   },
   "outputs": [
    {
     "name": "stdout",
     "output_type": "stream",
     "text": [
      "Running on local URL:  http://127.0.0.1:7861\n",
      "\n",
      "To create a public link, set `share=True` in `launch()`.\n"
     ]
    },
    {
     "data": {
      "text/html": [
       "<div><iframe src=\"http://127.0.0.1:7861/\" width=\"100%\" height=\"500\" allow=\"autoplay; camera; microphone; clipboard-read; clipboard-write;\" frameborder=\"0\" allowfullscreen></iframe></div>"
      ],
      "text/plain": [
       "<IPython.core.display.HTML object>"
      ]
     },
     "metadata": {},
     "output_type": "display_data"
    },
    {
     "data": {
      "text/plain": []
     },
     "execution_count": 5,
     "metadata": {},
     "output_type": "execute_result"
    }
   ],
   "source": [
    "with gr.Blocks() as app:\n",
    "    gr.Markdown(\"<h1> ACESS - AI Chatbot Engagement and Supervision System</h1>\")\n",
    "\n",
    "    with gr.Tab(\"Chatbot\"):\n",
    "        with gr.Row():\n",
    "            user_input = gr.Textbox(label=\"Enter your question\")\n",
    "            submit_button = gr.Button(\"Submit\")\n",
    "        chat_output = gr.Textbox(label=\"Chatbot Response\", interactive=False)\n",
    "        submit_button.click(fn=chat_response, inputs=user_input, outputs=chat_output)\n",
    "\n",
    "    with gr.Tab(\"Rate Interaction\"):\n",
    "        with gr.Row():\n",
    "            rating = gr.Slider(minimum=1, maximum=5, label=\"Rate your chat interaction (1-5)\")\n",
    "            rate_button = gr.Button(\"Rate\")\n",
    "        rating_output = gr.Textbox(label=\"Rating Output\", interactive=False)\n",
    "        rate_button.click(fn=rate_interaction, inputs=rating, outputs=rating_output)\n",
    "\n",
    "    with gr.Tab(\"User Engagement\"):\n",
    "        with gr.Row():\n",
    "            #start_date = gr.Date(label=\"Start Date\")\n",
    "            #end_date = gr.Date(label=\"End Date\")\n",
    "            engagement_button = gr.Button(\"Generate Report\")\n",
    "        engagement_summary = gr.Textbox(label=\"Engagement Summary\", interactive=False)\n",
    "        #engagement_button.click(fn=user_engagement, inputs=[start_date, end_date], outputs=engagement_summary)\n",
    "\n",
    "app.launch()"
   ]
  },
  {
   "cell_type": "code",
   "execution_count": 1,
   "metadata": {
    "ExecuteTime": {
     "end_time": "2024-02-12T00:52:04.358308Z",
     "start_time": "2024-02-12T00:52:04.147142Z"
    },
    "collapsed": false,
    "jupyter": {
     "outputs_hidden": false
    }
   },
   "outputs": [
    {
     "name": "stdout",
     "output_type": "stream",
     "text": [
      "Environment variables set.\n"
     ]
    }
   ],
   "source": [
    "from HelperMethods import Helper\n",
    "\n",
    "# load class objects\n",
    "helper = Helper()\n",
    "# load config\n",
    "helper.load_config()"
   ]
  },
  {
   "cell_type": "code",
   "execution_count": 3,
   "metadata": {
    "ExecuteTime": {
     "end_time": "2024-02-11T22:17:40.080804Z",
     "start_time": "2024-02-11T22:17:36.889165Z"
    },
    "collapsed": false,
    "jupyter": {
     "outputs_hidden": false
    }
   },
   "outputs": [
    {
     "name": "stdout",
     "output_type": "stream",
     "text": [
      "Running on local URL:  http://127.0.0.1:7871\n",
      "\n",
      "To create a public link, set `share=True` in `launch()`.\n"
     ]
    },
    {
     "data": {
      "text/html": [
       "<div><iframe src=\"http://127.0.0.1:7871/\" width=\"100%\" height=\"500\" allow=\"autoplay; camera; microphone; clipboard-read; clipboard-write;\" frameborder=\"0\" allowfullscreen></iframe></div>"
      ],
      "text/plain": [
       "<IPython.core.display.HTML object>"
      ]
     },
     "metadata": {},
     "output_type": "display_data"
    },
    {
     "data": {
      "text/plain": []
     },
     "execution_count": 3,
     "metadata": {},
     "output_type": "execute_result"
    },
    {
     "name": "stderr",
     "output_type": "stream",
     "text": [
      "C:\\Users\\anant\\DataspellProjects\\ACESS\\acessenv\\Lib\\site-packages\\langchain_core\\_api\\deprecation.py:117: LangChainDeprecationWarning: The function `__call__` was deprecated in LangChain 0.1.7 and will be removed in 0.2.0. Use invoke instead.\n",
      "  warn_deprecated(\n"
     ]
    }
   ],
   "source": [
    "import os\n",
    "from langchain_openai import ChatOpenAI\n",
    "from langchain.schema import AIMessage, HumanMessage\n",
    "import openai\n",
    "import gradio as gr\n",
    "import time\n",
    "\n",
    "llm = ChatOpenAI(temperature=1.0, model='gpt-4-turbo-preview')\n",
    "\n",
    "def predict(message, history):\n",
    "\n",
    "    history_langchain_format = []\n",
    "    for human, ai in history:\n",
    "        history_langchain_format.append(HumanMessage(content=human))\n",
    "        history_langchain_format.append(AIMessage(content=ai))\n",
    "    history_langchain_format.append(HumanMessage(content=message))\n",
    "    gpt_response = llm(history_langchain_format)\n",
    "\n",
    "    # for i in range(len(message)):\n",
    "    #     time.sleep(0.05)\n",
    "    #     yield \"You typed: \" + message[: i+1]\n",
    "    for i in range(len(gpt_response.content)):\n",
    "        time.sleep(0.02)\n",
    "        yield gpt_response.content[: i+1]\n",
    "\n",
    "gr.ChatInterface(predict).launch()"
   ]
  },
  {
   "cell_type": "code",
   "execution_count": 4,
   "metadata": {
    "ExecuteTime": {
     "end_time": "2024-02-11T22:15:04.717218Z",
     "start_time": "2024-02-11T22:15:02.514018Z"
    },
    "collapsed": false,
    "jupyter": {
     "outputs_hidden": false
    }
   },
   "outputs": [
    {
     "name": "stdout",
     "output_type": "stream",
     "text": [
      "Running on local URL:  http://127.0.0.1:7861\n",
      "\n",
      "To create a public link, set `share=True` in `launch()`.\n"
     ]
    },
    {
     "data": {
      "text/html": [
       "<div><iframe src=\"http://127.0.0.1:7861/\" width=\"100%\" height=\"500\" allow=\"autoplay; camera; microphone; clipboard-read; clipboard-write;\" frameborder=\"0\" allowfullscreen></iframe></div>"
      ],
      "text/plain": [
       "<IPython.core.display.HTML object>"
      ]
     },
     "metadata": {},
     "output_type": "display_data"
    },
    {
     "data": {
      "text/plain": []
     },
     "execution_count": 4,
     "metadata": {},
     "output_type": "execute_result"
    }
   ],
   "source": [
    "import time\n",
    "import gradio as gr\n",
    "\n",
    "def slow_echo(message, history):\n",
    "    for i in range(len(message)):\n",
    "        time.sleep(0.05)\n",
    "        yield \"You typed: \" + message[: i+1]\n",
    "\n",
    "gr.ChatInterface(slow_echo).queue().launch()"
   ]
  },
  {
   "cell_type": "code",
   "execution_count": 10,
   "metadata": {
    "ExecuteTime": {
     "end_time": "2024-02-11T13:07:08.615151Z",
     "start_time": "2024-02-11T13:06:58.963092Z"
    },
    "collapsed": false,
    "jupyter": {
     "outputs_hidden": false
    }
   },
   "outputs": [
    {
     "name": "stdout",
     "output_type": "stream",
     "text": [
      "Running on local URL:  http://127.0.0.1:7864\n",
      "\n",
      "To create a public link, set `share=True` in `launch()`.\n"
     ]
    },
    {
     "data": {
      "text/html": [
       "<div><iframe src=\"http://127.0.0.1:7864/\" width=\"100%\" height=\"500\" allow=\"autoplay; camera; microphone; clipboard-read; clipboard-write;\" frameborder=\"0\" allowfullscreen></iframe></div>"
      ],
      "text/plain": [
       "<IPython.core.display.HTML object>"
      ]
     },
     "metadata": {},
     "output_type": "display_data"
    },
    {
     "data": {
      "text/plain": []
     },
     "execution_count": 10,
     "metadata": {},
     "output_type": "execute_result"
    }
   ],
   "source": [
    "import gradio as gr\n",
    "\n",
    "gr.themes.builder()"
   ]
  },
  {
   "cell_type": "code",
   "execution_count": null,
   "metadata": {
    "collapsed": false,
    "jupyter": {
     "outputs_hidden": false
    }
   },
   "outputs": [],
   "source": [
    "import gradio as gr\n",
    "\n",
    "def welcome(name):\n",
    "    return f\"Welcome to Gradio, {name}!\"\n",
    "\n",
    "with gr.Blocks() as demo:\n",
    "    gr.Markdown(\n",
    "        \"\"\"\n",
    "        # Hello World!\n",
    "        Start typing below to see the output.\n",
    "        \"\"\")\n",
    "    inp = gr.Textbox(placeholder=\"What is your name?\")\n",
    "    out = gr.Textbox()\n",
    "    inp.change(welcome, inp, out)"
   ]
  },
  {
   "cell_type": "code",
   "execution_count": null,
   "metadata": {
    "collapsed": false,
    "jupyter": {
     "outputs_hidden": false
    }
   },
   "outputs": [],
   "source": []
  },
  {
   "cell_type": "code",
   "execution_count": null,
   "metadata": {
    "collapsed": false,
    "jupyter": {
     "outputs_hidden": false
    }
   },
   "outputs": [],
   "source": []
  },
  {
   "cell_type": "markdown",
   "metadata": {
    "collapsed": false,
    "jupyter": {
     "outputs_hidden": false
    }
   },
   "source": [
    "## NEW ATTEMPT"
   ]
  },
  {
   "cell_type": "code",
   "execution_count": 3,
   "metadata": {
    "ExecuteTime": {
     "end_time": "2024-02-12T00:52:22.294601Z",
     "start_time": "2024-02-12T00:52:15.357723Z"
    },
    "collapsed": false,
    "jupyter": {
     "outputs_hidden": false
    }
   },
   "outputs": [
    {
     "name": "stdout",
     "output_type": "stream",
     "text": [
      "Running on local URL:  http://127.0.0.1:7862\n",
      "\n",
      "To create a public link, set `share=True` in `launch()`.\n"
     ]
    },
    {
     "data": {
      "text/html": [
       "<div><iframe src=\"http://127.0.0.1:7862/\" width=\"100%\" height=\"500\" allow=\"autoplay; camera; microphone; clipboard-read; clipboard-write;\" frameborder=\"0\" allowfullscreen></iframe></div>"
      ],
      "text/plain": [
       "<IPython.core.display.HTML object>"
      ]
     },
     "metadata": {},
     "output_type": "display_data"
    },
    {
     "data": {
      "text/plain": []
     },
     "execution_count": 3,
     "metadata": {},
     "output_type": "execute_result"
    }
   ],
   "source": [
    "import gradio as gr\n",
    "import os\n",
    "import time\n",
    "import os\n",
    "from langchain_openai import ChatOpenAI\n",
    "from langchain.schema import AIMessage, HumanMessage\n",
    "import openai\n",
    "import gradio as gr\n",
    "import time\n",
    "\n",
    "llm = ChatOpenAI(temperature=1.0, model='gpt-4-turbo-preview')\n",
    "\n",
    "def predict(history):\n",
    "    # print(history)\n",
    "    history_langchain_format = []\n",
    "    for human, ai in history[:-1]:\n",
    "        print(f\"human: {human} | ai: {ai}\")\n",
    "        history_langchain_format.append(HumanMessage(content=human))\n",
    "        history_langchain_format.append(AIMessage(content=ai))\n",
    "    history_langchain_format.append(HumanMessage(content=history[-1][0]))\n",
    "\n",
    "    # get response from llm\n",
    "    gpt_response = llm(history_langchain_format)\n",
    "\n",
    "    history[-1][1] = \"\"\n",
    "    for character in gpt_response.content:\n",
    "        history[-1][1] += character\n",
    "        time.sleep(0.03)\n",
    "        yield history\n",
    "\n",
    "    # print(f\"history_langchain_format: {history_langchain_format}\")\n",
    "    \n",
    "    # print(f\"gpt_response: {gpt_response}\")\n",
    "    # for i in range(len(message)):\n",
    "    #     time.sleep(0.05)\n",
    "    #     yield \"You typed: \" + message[: i+1]\n",
    "\n",
    "    # for i in range(len(gpt_response.content)):\n",
    "    #     time.sleep(0.02)\n",
    "    #     yield gpt_response.content[: i+1]\n",
    "\n",
    "# Chatbot demo with multimodal input (text, markdown, LaTeX, code blocks, image, audio, & video). Plus shows support for streaming text.\n",
    "\n",
    "\n",
    "def print_like_dislike(x: gr.LikeData):\n",
    "    helper.update_dataframe_and_save_to_csv([str(x.index), str(x.value), str(x.liked)], \".\\\\data\\\\likes_dislikes.csv\")\n",
    "    print(x.index, x.value, x.liked)\n",
    "\n",
    "\n",
    "def add_text(history, text):\n",
    "    history = history + [(text, None)]\n",
    "    return history, gr.Textbox(value=\"\", interactive=False)\n",
    "\n",
    "\n",
    "def add_file(history, file):\n",
    "    history = history + [((file.name,), None)]\n",
    "    return history\n",
    "\n",
    "\n",
    "# def bot(history):\n",
    "#     print(history)\n",
    "#     response = \"**That's cool!**\"\n",
    "#     history[-1][1] = \"\"\n",
    "#     for character in response:\n",
    "#         history[-1][1] += character\n",
    "#         time.sleep(0.03)\n",
    "#         yield history\n",
    "\n",
    "\n",
    "with gr.Blocks() as demo:\n",
    "    chatbot = gr.Chatbot(\n",
    "        [],\n",
    "        elem_id=\"chatbot\",\n",
    "        bubble_full_width=False,\n",
    "        #avatar_images=\".\\\\img\\\\bot_logo.jpeg\",\n",
    "        avatar_images=(None, (os.path.join(os.path.dirname(\".\\\\img\\\\\"), \"bot_logo.jpg\"))),\n",
    "    )\n",
    "\n",
    "    with gr.Row():\n",
    "        txt = gr.Textbox(\n",
    "            scale=4,\n",
    "            show_label=False,\n",
    "            placeholder=\"Enter text and press enter, or upload an image\",\n",
    "            container=False,\n",
    "        )\n",
    "        btn = gr.UploadButton(\"📁\", file_types=[\"image\", \"video\", \"audio\"])\n",
    "\n",
    "    txt_msg = txt.submit(add_text, [chatbot, txt], [chatbot, txt], queue=False).then(\n",
    "        predict, chatbot, chatbot, api_name=\"bot_response\"\n",
    "    )\n",
    "    txt_msg.then(lambda: gr.Textbox(interactive=True), None, [txt], queue=False)\n",
    "    file_msg = btn.upload(add_file, [chatbot, btn], [chatbot], queue=False).then(\n",
    "        predict, chatbot, chatbot\n",
    "    )\n",
    "\n",
    "    chatbot.like(print_like_dislike, None, None)\n",
    "\n",
    "\n",
    "demo.queue()\n",
    "demo.launch()"
   ]
  },
  {
   "cell_type": "code",
   "execution_count": null,
   "metadata": {
    "collapsed": false,
    "jupyter": {
     "outputs_hidden": false
    }
   },
   "outputs": [],
   "source": []
  }
 ],
 "metadata": {
  "kernelspec": {
   "display_name": "Python 3 (ipykernel)",
   "language": "python",
   "name": "python3"
  },
  "language_info": {
   "codemirror_mode": {
    "name": "ipython",
    "version": 3
   },
   "file_extension": ".py",
   "mimetype": "text/x-python",
   "name": "python",
   "nbconvert_exporter": "python",
   "pygments_lexer": "ipython3",
   "version": "3.11.3"
  }
 },
 "nbformat": 4,
 "nbformat_minor": 4
}
